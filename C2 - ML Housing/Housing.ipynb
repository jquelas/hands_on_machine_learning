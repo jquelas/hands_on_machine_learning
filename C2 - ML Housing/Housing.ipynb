{
 "cells": [
  {
   "cell_type": "code",
   "execution_count": 5,
   "id": "fc031416-e185-432c-b1db-d14cd22f26a4",
   "metadata": {},
   "outputs": [],
   "source": [
    "# FIRST: Let's import necessary libraries for handling files and downloading data\n",
    "# Floowing that step we are going to study the dataset\n",
    "import os\n",
    "import tarfile\n",
    "import urllib\n",
    "\n",
    "# Define constants for dataset location\n",
    "DOWNLOAD_ROOT = \"https://raw.githubusercontent.com/ageron/handson-ml2/master/\"\n",
    "HOUSING_PATH = os.path.join(\"dataset\",\"housing\")\n",
    "HOUSING_URL = DOWNLOAD_ROOT + \"datasets/housing/housing.tgz\"\n",
    "\n",
    "# Function to fetch and extract the housing dataset\n",
    "def fetch_housing_data(housing_url=HOUSING_URL, housing_path=HOUSING_PATH):\n",
    "    \"\"\"\n",
    "    Downloads the housing dataset from the given URL and extracts it into the specified directory.\n",
    "    If the directory does not exist, it is created.\n",
    "    \"\"\"\n",
    "    os.makedirs(housing_path, exist_ok=True)  # Ensure the directory exists\n",
    "    tgz_path = os.path.join(housing_path, \"housing.tgz\")\n",
    "    urllib.request.urlretrieve(housing_url, tgz_path)  # Download the file\n",
    "    housing_tgz = tarfile.open(tgz_path)  # Open the tar file\n",
    "    housing_tgz.extractall(path=housing_path)  # Extract contents\n",
    "    housing_tgz.close()  # Close the file"
   ]
  },
  {
   "cell_type": "code",
   "execution_count": 6,
   "id": "d501c45a-41cd-4abd-9755-9cc20eeee520",
   "metadata": {},
   "outputs": [],
   "source": [
    "# Call the function to download the data\n",
    "fetch_housing_data()"
   ]
  },
  {
   "cell_type": "code",
   "execution_count": 10,
   "id": "18316aed-e002-4f08-a43a-3ba6f4c6384d",
   "metadata": {},
   "outputs": [
    {
     "ename": "ModuleNotFoundError",
     "evalue": "No module named 'pandas'",
     "output_type": "error",
     "traceback": [
      "\u001b[31m---------------------------------------------------------------------------\u001b[39m",
      "\u001b[31mModuleNotFoundError\u001b[39m                       Traceback (most recent call last)",
      "\u001b[36mCell\u001b[39m\u001b[36m \u001b[39m\u001b[32mIn[10]\u001b[39m\u001b[32m, line 2\u001b[39m\n\u001b[32m      1\u001b[39m \u001b[38;5;66;03m# Import pandas for data handling\u001b[39;00m\n\u001b[32m----> \u001b[39m\u001b[32m2\u001b[39m \u001b[38;5;28;01mimport\u001b[39;00m\u001b[38;5;250m \u001b[39m\u001b[34;01mpandas\u001b[39;00m\u001b[38;5;250m \u001b[39m\u001b[38;5;28;01mas\u001b[39;00m\u001b[38;5;250m \u001b[39m\u001b[34;01mpd\u001b[39;00m\n\u001b[32m      4\u001b[39m \u001b[38;5;66;03m# Function to load the dataset into a Pandas DataFrame\u001b[39;00m\n\u001b[32m      5\u001b[39m \u001b[38;5;28;01mdef\u001b[39;00m\u001b[38;5;250m \u001b[39m\u001b[34mload_housing_data\u001b[39m(housing_path=HOUSING_PATH):\n",
      "\u001b[31mModuleNotFoundError\u001b[39m: No module named 'pandas'"
     ]
    }
   ],
   "source": [
    "# Import pandas for data handling\n",
    "import pandas as pd\n",
    "\n",
    "# Function to load the dataset into a Pandas DataFrame\n",
    "def load_housing_data(housing_path=HOUSING_PATH):\n",
    "    \"\"\"\n",
    "    Reads the housing dataset CSV file and returns it as a Pandas DataFrame.\n",
    "    \"\"\"\n",
    "    csv_path = os.path.join(housing_path, \"housing.csv\")\n",
    "    return pd.read_csv(csv_path)  # Load and return the data"
   ]
  },
  {
   "cell_type": "code",
   "execution_count": null,
   "id": "3b74acf3-fd26-40cb-a266-bdc45fedccbe",
   "metadata": {},
   "outputs": [],
   "source": [
    "# Load the dataset into a DataFrame\n",
    "housing = load_housing_data()\n",
    "\n",
    "# Display the first few rows of the dataset to verify successful loading\n",
    "housing.head()"
   ]
  },
  {
   "cell_type": "code",
   "execution_count": null,
   "id": "4549f703-70a3-46a7-b3d0-e9dbd65bd502",
   "metadata": {},
   "outputs": [],
   "source": [
    "# Display information regarding the dataset\n",
    "housing.info()"
   ]
  },
  {
   "cell_type": "code",
   "execution_count": null,
   "id": "bf438c28-5e0d-4bcf-8f22-c10241395688",
   "metadata": {},
   "outputs": [],
   "source": [
    "# Count the amount of values contain inside the \"ocean_proximity\" attribute\n",
    "housing[\"ocean_proximity\"].value_counts()"
   ]
  },
  {
   "cell_type": "code",
   "execution_count": null,
   "id": "9e964e8d-9783-4a36-b9e6-a5372ddd9734",
   "metadata": {},
   "outputs": [],
   "source": [
    "# Display a description of the numerical attributes of the dataset\n",
    "housing.describe()"
   ]
  },
  {
   "cell_type": "code",
   "execution_count": null,
   "id": "6a9cad09-9bbc-4844-9a9d-a6de679567a7",
   "metadata": {},
   "outputs": [],
   "source": [
    "# Import Matplotlib for data visualization\n",
    "import matplotlib.pyplot as plt\n",
    "\n",
    "# Generate histograms for numerical attributes to understand their distribution\n",
    "housing.hist(bins=50, figsize=(20,15))\n",
    "plt.show()  # Display the histograms"
   ]
  },
  {
   "cell_type": "code",
   "execution_count": null,
   "id": "735bf462-ad0c-4109-89e5-fbefc121732b",
   "metadata": {},
   "outputs": [],
   "source": [
    "# SECOND: We are going to generate a train set\n",
    "import numpy as np\n",
    "\n",
    "# Function to split the dataset into training and testing sets\n",
    "def split_train_test(data, test_ratio):\n",
    "    \"\"\"\n",
    "    Splits the dataset into a training set and a test set based on the given test ratio.\n",
    "    Uses a fixed random seed to ensure consistency across runs.\n",
    "    \"\"\"\n",
    "    np.random.seed(42)  # Ensures reproducibility of the random shuffling\n",
    "    shuffled_indices = np.random.permutation(len(data))  # Generate shuffled indices\n",
    "    test_set_size = int(len(data) * test_ratio)  # Determine test set size\n",
    "    test_indices = shuffled_indices[:test_set_size]  # Select test indices\n",
    "    train_indices = shuffled_indices[test_set_size:]  # Select train indices\n",
    "    return data.iloc[train_indices], data.iloc[test_indices]  # Return the split datasets"
   ]
  },
  {
   "cell_type": "code",
   "execution_count": null,
   "id": "8c596ef2-bc33-4cb1-8add-f377a9e674ca",
   "metadata": {},
   "outputs": [],
   "source": [
    "# Split the dataset into training and test sets with a 20% test size\n",
    "train_set, test_set = split_train_test(housing, 0.2)"
   ]
  },
  {
   "cell_type": "code",
   "execution_count": null,
   "id": "76d31b10-3a4d-440e-8672-515056a1ecbd",
   "metadata": {},
   "outputs": [],
   "source": [
    "# Check the size of the training set\n",
    "len(train_set)"
   ]
  },
  {
   "cell_type": "code",
   "execution_count": null,
   "id": "d0c38715-27a4-4413-8a64-0588e556dda4",
   "metadata": {},
   "outputs": [],
   "source": [
    "# Check the size of the test set\n",
    "len(test_set)"
   ]
  },
  {
   "cell_type": "code",
   "execution_count": null,
   "id": "f68fd369-2e76-4a3f-9642-28229484b3f4",
   "metadata": {},
   "outputs": [],
   "source": [
    "from zlib import crc32  # Importing crc32 from zlib for checksum calculation\n",
    "\n",
    "def test_set_check(identifier, test_ratio):  \n",
    "    \"\"\"\n",
    "    Determines whether a given identifier should be part of the test set.\n",
    "\n",
    "    Uses CRC32 hashing to ensure consistent splitting of data. \n",
    "    This is useful to maintain the same test set even if new data is added later.\n",
    "\n",
    "    Parameters:\n",
    "    identifier (int): A unique identifier for a data instance.\n",
    "    test_ratio (float): Proportion of the dataset to assign to the test set.\n",
    "\n",
    "    Returns:\n",
    "    bool: True if the instance should be in the test set, False otherwise.\n",
    "    \"\"\"\n",
    "    return crc32(np.int64(identifier)) & 0xffffffff < test_ratio * 2**32\n",
    "\n",
    "def split_train_test_by_id(data, test_ratio, id_column):  \n",
    "    \"\"\"\n",
    "    Splits a dataset into training and test sets based on a unique identifier.\n",
    "\n",
    "    Ensures that the test set remains stable even if new data instances are added.\n",
    "    Uses `test_set_check` to consistently determine which rows belong to the test set.\n",
    "\n",
    "    Parameters:\n",
    "    data (DataFrame): The dataset to split.\n",
    "    test_ratio (float): The proportion of data to assign to the test set.\n",
    "    id_column (str): The column name containing unique identifiers.\n",
    "\n",
    "    Returns:\n",
    "    tuple: (training set DataFrame, test set DataFrame)\n",
    "    \"\"\"\n",
    "    ids = data[id_column]  # Extract unique identifiers\n",
    "    in_test_set = ids.apply(lambda id_: test_set_check(id_, test_ratio))  # Apply the hash-based test set check\n",
    "    return data.loc[~in_test_set], data.loc[in_test_set]  # Return train and test sets\n"
   ]
  },
  {
   "cell_type": "code",
   "execution_count": null,
   "id": "3c8cb3a6-642e-4989-b911-6289a7727efc",
   "metadata": {},
   "outputs": [],
   "source": [
    "housing_with_id = housing.reset_index() # adds and \"index\" column\n",
    "train_set, test_set = split_train_test_by_id(housing_with_id, 0.2, \"index\") # uses index as a indentifier, if new datasets are added, the must be appended"
   ]
  },
  {
   "cell_type": "code",
   "execution_count": null,
   "id": "dc024e19-19a2-4966-b9ea-85a575ae618e",
   "metadata": {},
   "outputs": [],
   "source": [
    "housing_with_id[\"id\"] = housing[\"longitude\"] * 1000 + housing[\"latitude\"]\n",
    "train_set, test_set = split_train_test_by_id(housing_with_id, 0.2, \"id\") # uses longitude and latitude as unique identifiers"
   ]
  },
  {
   "cell_type": "code",
   "execution_count": null,
   "id": "ff4a80f3-384f-43d1-a65c-6d8246763a6f",
   "metadata": {},
   "outputs": [],
   "source": [
    "from sklearn.model_selection import train_test_split  \n",
    "\n",
    "# Perform a random train-test split on the housing dataset.\n",
    "# This method is more flexible than `split_train_test_by_id`, as it allows:\n",
    "# - Setting a random seed for reproducibility (`random_state=42`).\n",
    "# - Splitting multiple datasets simultaneously.\n",
    "# - Optional stratification to maintain class distributions.\n",
    "train_set, test_set = train_test_split(housing, test_size=0.2, random_state=42)  \n"
   ]
  },
  {
   "cell_type": "code",
   "execution_count": null,
   "id": "c592663e-5af2-4b3b-adeb-f96296d8de16",
   "metadata": {},
   "outputs": [],
   "source": [
    "# We generate income categories based on the \"median_income\" attribute.\n",
    "# This is done to perform stratified sampling later, ensuring that the test set \n",
    "# contains a proportional representation of different income levels.\n",
    "\n",
    "# Stratified sampling helps reduce bias in our test set by ensuring that all income\n",
    "# groups are well-represented, avoiding issues where rare income levels might be underrepresented.\n",
    "\n",
    "housing[\"income_cat\"] = pd.cut(housing[\"median_income\"],  # Categorizing \"median_income\"\n",
    "                               bins=[0., 1.5, 3.0, 4.5, 6., np.inf],  # Define income brackets\n",
    "                               labels=[1, 2, 3, 4, 5])  # Assign category labels\n",
    "\n",
    "# Display a histogram of the newly created income categories to visualize distribution\n",
    "housing[\"income_cat\"].hist()\n"
   ]
  },
  {
   "cell_type": "code",
   "execution_count": null,
   "id": "336e3427-53e2-43ba-b8a3-a80286fc6b48",
   "metadata": {},
   "outputs": [],
   "source": [
    "from sklearn.model_selection import StratifiedShuffleSplit  \n",
    "\n",
    "# Create an instance of StratifiedShuffleSplit to ensure that the test set \n",
    "# maintains the same proportion of income categories as the full dataset.\n",
    "split = StratifiedShuffleSplit(n_splits=1, test_size=0.2, random_state=42)\n",
    "\n",
    "# Generate new train and test sets using stratified sampling based on the \"income_cat\" attribute.\n",
    "for train_index, test_index in split.split(housing, housing[\"income_cat\"]):  \n",
    "    strat_train_set = housing.loc[train_index]  # Extract stratified training set\n",
    "    strat_test_set = housing.loc[test_index]  # Extract stratified test set\n"
   ]
  },
  {
   "cell_type": "code",
   "execution_count": null,
   "id": "f5179eda-2a43-4366-bc86-f5d92135e63b",
   "metadata": {},
   "outputs": [],
   "source": [
    "# Compute the proportion of each income category in the stratified test set.\n",
    "# This verifies that the stratified sampling worked correctly by maintaining \n",
    "# the same distribution of \"income_cat\" as in the original dataset.\n",
    "\n",
    "strat_test_set[\"income_cat\"].value_counts() / len(strat_test_set)\n"
   ]
  },
  {
   "cell_type": "code",
   "execution_count": null,
   "id": "11fa644c-665f-4029-a8dd-3ddb0b860351",
   "metadata": {},
   "outputs": [],
   "source": [
    "# Remove the \"income_cat\" column from both the training and test sets.\n",
    "# This is done because \"income_cat\" was only created for stratified sampling \n",
    "# and is not an original feature of the dataset.\n",
    "\n",
    "for set_ in (strat_train_set, strat_test_set):  \n",
    "    set_.drop(\"income_cat\", axis=1, inplace=True)  # Drop the column in place\n"
   ]
  },
  {
   "cell_type": "code",
   "execution_count": null,
   "id": "5b37499e-1fb6-4c12-a818-c3f6fe404f5b",
   "metadata": {},
   "outputs": [],
   "source": [
    "# THIRD, we are going to explore the data further\n",
    "\n",
    "# Create a copy of the stratified training set for data exploration.\n",
    "# This ensures that any transformations or modifications made during exploration\n",
    "# do not affect the original training data.\n",
    "\n",
    "housing = strat_train_set.copy()  # Copy the training set to explore it safely\n"
   ]
  },
  {
   "cell_type": "code",
   "execution_count": null,
   "id": "29874677-65d6-4566-9df9-a23bf1c59fdc",
   "metadata": {},
   "outputs": [],
   "source": [
    "# Generate a scatter plot to visualize the geographical distribution of data points.\n",
    "# The x-axis represents longitude, and the y-axis represents latitude.\n",
    "# This helps identify spatial patterns in the dataset, such as clustering of houses.\n",
    "\n",
    "housing.plot(kind=\"scatter\", x=\"longitude\", y=\"latitude\")\n"
   ]
  },
  {
   "cell_type": "code",
   "execution_count": null,
   "id": "3f0c43bc-4576-4d91-b678-be1f83f6589e",
   "metadata": {},
   "outputs": [],
   "source": [
    "# Generate a scatter plot of housing data points based on geographic coordinates.\n",
    "# The alpha parameter (alpha=0.1) makes points more transparent, helping to reveal \n",
    "# dense regions where data points overlap.\n",
    "# This allows us to better visualize population density and housing distribution.\n",
    "\n",
    "housing.plot(kind=\"scatter\", x=\"longitude\", y=\"latitude\", alpha=0.1)\n"
   ]
  },
  {
   "cell_type": "code",
   "execution_count": null,
   "id": "b497334a-0eba-4195-a8d7-c046d39bbb21",
   "metadata": {},
   "outputs": [],
   "source": [
    "# Generate a scatter plot to visualize housing data, including:\n",
    "# - The geographic coordinates (longitude, latitude)\n",
    "# - The size of points proportional to population (scaled by 100 for better visualization)\n",
    "# - The color of points representing median house values, with a color map for better interpretation\n",
    "\n",
    "housing.plot(kind=\"scatter\", x=\"longitude\", y=\"latitude\", alpha=0.4,  # Plot with some transparency\n",
    "            s=housing[\"population\"]/100,  # Size of points scaled by population size\n",
    "            label=\"population\",  # Add a label for population (used in legend)\n",
    "            figsize=(10,7),  # Set figure size for better readability\n",
    "            c=\"median_house_value\",  # Use median house value to color the points\n",
    "            cmap=plt.get_cmap(\"jet\"),  # Apply a color map to represent house values\n",
    "            colorbar=True,  # Show color bar to indicate house value range\n",
    "            )\n",
    "\n",
    "# Display the legend to explain the population label\n",
    "plt.legend()\n"
   ]
  },
  {
   "cell_type": "code",
   "execution_count": null,
   "id": "f3ff612e-81a8-421b-91ca-17a542cf8aea",
   "metadata": {},
   "outputs": [],
   "source": [
    "# Display the first rows of the dataset\n",
    "housing.head()"
   ]
  },
  {
   "cell_type": "code",
   "execution_count": null,
   "id": "85369937-a0af-4f39-9198-86609a8f06e9",
   "metadata": {},
   "outputs": [],
   "source": [
    "# Remove the 'ocean_proximity' column from the dataset as it contains categorical string data,\n",
    "# which cannot be directly correlated with numerical values (floats). This ensures we only have \n",
    "# numerical features that can be used in machine learning models.\n",
    "\n",
    "housing = housing.drop(columns=['ocean_proximity'])  # Drop the 'ocean_proximity' column\n",
    "housing.head()  # Display the first few rows of the updated dataset to confirm the change\n"
   ]
  },
  {
   "cell_type": "code",
   "execution_count": null,
   "id": "847746bb-1183-4286-9fb6-b4c43dd41ef1",
   "metadata": {},
   "outputs": [],
   "source": [
    "# Compute the correlation matrix for all numerical features in the dataset.\n",
    "# The correlation matrix shows how each feature is linearly related to the others,\n",
    "# with values ranging from -1 (perfect negative correlation) to 1 (perfect positive correlation).\n",
    "# Values close to 0 indicate little to no linear relationship.\n",
    "\n",
    "corr_matrix = housing.corr()  # Calculate the correlation matrix for the housing dataset\n",
    "print(corr_matrix)  # Display the correlation matrix to explore relationships between features\n"
   ]
  },
  {
   "cell_type": "code",
   "execution_count": null,
   "id": "9cbaaeb9-cc84-49cb-8fa5-da4f135ab686",
   "metadata": {},
   "outputs": [],
   "source": [
    "# Compute and sort the correlation of all features with 'median_house_value' in descending order\n",
    "# This helps identify which features have the strongest positive or negative correlation with the target variable\n",
    "corr_matrix[\"median_house_value\"].sort_values(ascending=False)  \n"
   ]
  },
  {
   "cell_type": "code",
   "execution_count": null,
   "id": "2c299ba5-71f9-4b0c-a78d-9ac2a963b13f",
   "metadata": {},
   "outputs": [],
   "source": [
    "from pandas.plotting import scatter_matrix\n",
    "\n",
    "# Define a list of attributes to explore their relationships through scatter plots\n",
    "attributes = [\"median_house_value\", \"median_income\", \"total_rooms\", \"housing_median_age\"]\n",
    "\n",
    "# Create a scatter matrix to visually explore correlations between the selected attributes.\n",
    "# Diagonal histograms show the distribution of individual attributes, while off-diagonal scatter plots \n",
    "# show pairwise correlations between attributes. A correlation of 1 results in a diagonal histogram instead of a plot.\n",
    "scatter_matrix(housing[attributes], figsize=(12,8))  "
   ]
  },
  {
   "cell_type": "code",
   "execution_count": null,
   "id": "3e246e84-304f-456c-8da0-233d9b8fe9ba",
   "metadata": {},
   "outputs": [],
   "source": [
    "# Generate a scatter plot to visualize the relationship between median_income and median_house_value.\n",
    "# The alpha parameter (alpha=0.1) makes the points semi-transparent to help reveal areas with dense data points.\n",
    "housing.plot(kind=\"scatter\", x=\"median_income\", y=\"median_house_value\", alpha=0.1)  "
   ]
  },
  {
   "cell_type": "code",
   "execution_count": null,
   "id": "e197781c-0c8e-4a4b-933a-b307c0cba5c0",
   "metadata": {},
   "outputs": [],
   "source": [
    "# Generate new useful attributes to improve the dataset:\n",
    "# - rooms_per_household: The number of rooms per household\n",
    "# - bedrooms_per_room: The proportion of bedrooms to total rooms\n",
    "# - population_per_household: The number of people per household\n",
    "\n",
    "housing[\"rooms_per_household\"] = housing[\"total_rooms\"]/housing[\"households\"]\n",
    "housing[\"bedrooms_per_room\"] = housing[\"total_bedrooms\"]/housing[\"total_rooms\"]\n",
    "housing[\"population_per_household\"] = housing[\"population\"]/housing[\"households\"]\n",
    "\n",
    "# Recalculate the correlation matrix to see how the newly created features relate to median_house_value\n",
    "corr_matrix = housing.corr()\n",
    "\n",
    "# Sort the correlation values for 'median_house_value' in descending order to examine relationships\n",
    "corr_matrix[\"median_house_value\"].sort_values(ascending=False)"
   ]
  },
  {
   "cell_type": "code",
   "execution_count": null,
   "id": "375ae6ac-2505-45f5-a199-fd690a4377a8",
   "metadata": {},
   "outputs": [],
   "source": [
    "# FOURTH: Clean the dataset by removing the target variable ('median_house_value') from the features\n",
    "# This allows us to work with a clean dataset containing only predictors (input features).\n",
    "\n",
    "housing = strat_train_set.drop(\"median_house_value\", axis=1)  # Drop the target variable from the features\n",
    "housing_labels = strat_train_set[\"median_house_value\"].copy()  # Store the target variable separately\n"
   ]
  },
  {
   "cell_type": "code",
   "execution_count": null,
   "id": "f32d1b89-9ea5-4076-8c74-c134b292cb84",
   "metadata": {},
   "outputs": [],
   "source": [
    "# Start by addressing the missing values in the 'total_bedrooms' attribute.\n",
    "# There are three options for handling missing values:\n",
    "\n",
    "# Option 1: Remove the rows where 'total_bedrooms' has missing values.\n",
    "housing.dropna(subset=[\"total_bedrooms\"])  # Remove rows with missing 'total_bedrooms'\n",
    "\n",
    "# Option 2: Drop the 'total_bedrooms' attribute from the dataset entirely.\n",
    "housing.drop(\"total_bedrooms\", axis=1)  # Drop the 'total_bedrooms' column\n",
    "\n",
    "# Option 3: Fill the missing values with the median of 'total_bedrooms'.\n",
    "median = housing[\"total_bedrooms\"].median()  # Calculate the median of 'total_bedrooms'\n",
    "housing[\"total_bedrooms\"].fillna(median, inplace=True)  # Replace missing values with the median"
   ]
  },
  {
   "cell_type": "code",
   "execution_count": null,
   "id": "1b302ada-52c7-40c4-b6f3-5c43cf3a68c5",
   "metadata": {},
   "outputs": [],
   "source": [
    "from sklearn.impute import SimpleImputer\n",
    "\n",
    "# Create an imputer object that will fill missing values with the median of each attribute.\n",
    "imputer = SimpleImputer(strategy=\"median\")\n",
    "\n",
    "# Remove the 'ocean_proximity' column as it's a categorical attribute and can't be processed by the imputer.\n",
    "housing_num = housing.drop(\"ocean_proximity\", axis=1)\n",
    "\n",
    "# Fit the imputer on the numerical features of the dataset, which will compute the median value for each attribute.\n",
    "imputer.fit(housing_num)"
   ]
  },
  {
   "cell_type": "code",
   "execution_count": null,
   "id": "ce663fe8-0221-4e74-9280-1bbf5dffd3a1",
   "metadata": {},
   "outputs": [],
   "source": [
    "# Access the statistics (i.e., median values) computed by the imputer for each numerical attribute.\n",
    "# These values are stored in the 'statistics_' attribute after fitting the imputer.\n",
    "imputer.statistics_  # Display the median values for each attribute"
   ]
  },
  {
   "cell_type": "code",
   "execution_count": null,
   "id": "98348091-145d-4842-90c1-cbf8a21cf650",
   "metadata": {},
   "outputs": [],
   "source": [
    "# Display the median values of each numerical attribute in the housing_num dataset.\n",
    "# This is done using pandas' median() method, which computes the median for each column.\n",
    "housing_num.median().values  # Show the median values for each numerical attribute"
   ]
  },
  {
   "cell_type": "code",
   "execution_count": null,
   "id": "3f05f681-3c45-4b51-8cf0-ae4862de6706",
   "metadata": {},
   "outputs": [],
   "source": [
    "# Use the imputer to fill missing values in housing_num with the computed median values.\n",
    "# The result is returned as a numpy array with the missing values replaced.\n",
    "X = imputer.transform(housing_num)  # Fill missing values and return as a numpy array\n",
    "\n",
    "# Convert the numpy array (X) back to a pandas DataFrame, preserving the original column names and indices.\n",
    "housing_tr = pd.DataFrame(X, columns=housing_num.columns, index=housing_num.index)  # Convert to DataFrame"
   ]
  },
  {
   "cell_type": "code",
   "execution_count": null,
   "id": "86252a04-1d8e-4355-8d0e-d675a13378b7",
   "metadata": {},
   "outputs": [],
   "source": [
    "# Extract the 'ocean_proximity' column, which is the only categorical attribute in the dataset.\n",
    "housing_cat = housing[[\"ocean_proximity\"]]  # Select the 'ocean_proximity' column\n",
    "\n",
    "# Display the first 10 values of the 'ocean_proximity' attribute to inspect its content.\n",
    "housing_cat.head(10)  # Show the first 10 rows of the categorical data"
   ]
  },
  {
   "cell_type": "code",
   "execution_count": null,
   "id": "79ce308c-fd4f-4c0e-b9ba-66a5c2ef55b8",
   "metadata": {},
   "outputs": [],
   "source": [
    "# Import the OrdinalEncoder from Scikit-learn to convert categorical values to numerical values.\n",
    "from sklearn.preprocessing import OrdinalEncoder\n",
    "\n",
    "# Create an OrdinalEncoder object to transform the categorical 'ocean_proximity' into numerical values.\n",
    "ordinal_encoder = OrdinalEncoder()\n",
    "\n",
    "# Apply the OrdinalEncoder to the 'ocean_proximity' column and store the result in housing_cat_encoded.\n",
    "# The result is a numpy array with the encoded values for each category.\n",
    "housing_cat_encoded = ordinal_encoder.fit_transform(housing_cat)\n",
    "\n",
    "# Display the first 10 encoded values to inspect the transformation.\n",
    "housing_cat_encoded[:10]  # Show the first 10 rows of the encoded values"
   ]
  },
  {
   "cell_type": "code",
   "execution_count": null,
   "id": "c9676309-0d4b-401b-bc0e-eb2a6a44d9bd",
   "metadata": {},
   "outputs": [],
   "source": [
    "# Access the categories that were assigned numerical values by the OrdinalEncoder.\n",
    "# This shows the mapping of the original categorical values to their corresponding numerical labels.\n",
    "ordinal_encoder.categories_  # Display the categories and their assigned numerical labels"
   ]
  },
  {
   "cell_type": "code",
   "execution_count": null,
   "id": "adb08e20-5788-4d27-9f61-b7d4cda224ca",
   "metadata": {},
   "outputs": [],
   "source": [
    "# ML algorithms assume that numerical values with similar proximity are more related. \n",
    "# One solution is to use one-hot encoding, which creates a separate binary attribute for each category. \n",
    "# Each attribute will be 1 when the category is present, and 0 otherwise.\n",
    "\n",
    "from sklearn.preprocessing import OneHotEncoder\n",
    "\n",
    "# Create an instance of OneHotEncoder to perform the one-hot encoding.\n",
    "cat_encoder = OneHotEncoder()\n",
    "\n",
    "# Apply the OneHotEncoder to the 'ocean_proximity' column to transform it into binary columns.\n",
    "# This will return a sparse matrix where each category is represented by a separate column with 0s and 1s.\n",
    "housing_cat_1hot = cat_encoder.fit_transform(housing_cat)\n",
    "\n",
    "# Display the resulting sparse matrix after the one-hot encoding.\n",
    "housing_cat_1hot  # One-hot encoded sparse matrix for 'ocean_proximity'"
   ]
  },
  {
   "cell_type": "code",
   "execution_count": null,
   "id": "c12a5557-318e-49c3-a5c7-3ffc816504a2",
   "metadata": {},
   "outputs": [],
   "source": [
    "housing_cat_1hot.toarray() # changes from a sparse matrix into a numpy array"
   ]
  },
  {
   "cell_type": "code",
   "execution_count": null,
   "id": "857c57c4-a054-4622-9fbf-7771c2125d6a",
   "metadata": {},
   "outputs": [],
   "source": [
    "# Convert the one-hot encoded sparse matrix into a dense numpy array for easier inspection.\n",
    "# This will return a 2D numpy array where each row represents a sample and each column represents one category.\n",
    "housing_cat_1hot.toarray()  # Convert the sparse matrix to a numpy array"
   ]
  },
  {
   "cell_type": "code",
   "execution_count": null,
   "id": "2da520c7-6c1e-4ae5-bd7f-47e6bdec833d",
   "metadata": {},
   "outputs": [],
   "source": [
    "# Now we will create a custom transformer by subclassing BaseEstimator and TransformerMixin.\n",
    "# This will allow us to add additional features to the dataset.\n",
    "\n",
    "from sklearn.base import BaseEstimator, TransformerMixin\n",
    "\n",
    "# Define column indices for the features we will use in the transformation.\n",
    "rooms_ix, bedrooms_ix, population_ix, households_ix = 3, 4, 5, 6\n",
    "\n",
    "# Custom transformer class to add new attributes to the dataset.\n",
    "class CombinedAttributesAdder(BaseEstimator, TransformerMixin):\n",
    "    # Constructor to control whether to add 'bedrooms_per_room' or not.\n",
    "    def __init__(self, add_bedrooms_per_room=True):\n",
    "        self.add_bedrooms_per_room = add_bedrooms_per_room  # Default is True, can be set to False\n",
    "    \n",
    "    # Fit method (nothing to fit, so it just returns 'self').\n",
    "    def fit(self, X, y=None):\n",
    "        return self  # No fitting needed\n",
    "    \n",
    "    # Transform method that computes new attributes and adds them to the dataset.\n",
    "    def transform(self, X):\n",
    "        # Calculate rooms per household: divide rooms by households for each row\n",
    "        rooms_per_household = X[:, rooms_ix] / X[:, households_ix]\n",
    "        \n",
    "        # Calculate population per household: divide population by households for each row\n",
    "        population_per_household = X[:, population_ix] / X[:, households_ix]\n",
    "        \n",
    "        # If we want to add 'bedrooms_per_room', calculate it and add it to the dataset.\n",
    "        if self.add_bedrooms_per_room:\n",
    "            # Calculate bedrooms per room: divide bedrooms by rooms for each row\n",
    "            bedrooms_per_room = X[:, bedrooms_ix] / X[:, rooms_ix]\n",
    "            # Return a new array with the added attributes (rooms_per_household, population_per_household, and optionally bedrooms_per_room)\n",
    "            return np.c_[X, rooms_per_household, population_per_household, bedrooms_per_room]\n",
    "        else:\n",
    "            # Return a new array with only rooms_per_household and population_per_household\n",
    "            return np.c_[X, rooms_per_household, population_per_household]\n",
    "\n",
    "# Create an instance of the custom transformer without adding 'bedrooms_per_room'.\n",
    "attr_adder = CombinedAttributesAdder(add_bedrooms_per_room=False)\n",
    "\n",
    "# Apply the transformer to the housing dataset to generate new features.\n",
    "housing_extra_attribs = attr_adder.transform(housing.values)"
   ]
  },
  {
   "cell_type": "code",
   "execution_count": null,
   "id": "2d679a50-4213-4258-9df2-857f8054abdb",
   "metadata": {},
   "outputs": [],
   "source": [
    "# Generate a pipeline that:\n",
    "# 1. Fills missing values with the median of each feature (SimpleImputer).\n",
    "# 2. Combines new attributes (e.g., rooms_per_household, population_per_household) using the custom transformer (CombinedAttributesAdder).\n",
    "# 3. Scales the features to have zero mean and unit variance using StandardScaler.\n",
    "\n",
    "from sklearn.pipeline import Pipeline\n",
    "from sklearn.preprocessing import StandardScaler\n",
    "\n",
    "# Create a pipeline for numerical data preprocessing\n",
    "num_pipeline = Pipeline([\n",
    "    ('imputer', SimpleImputer(strategy=\"median\")),  # Step 1: Handle missing values by replacing them with the median\n",
    "    ('attribs_adder', CombinedAttributesAdder()),   # Step 2: Add new attributes like rooms_per_household and population_per_household\n",
    "    ('std_scaler', StandardScaler()),               # Step 3: Scale the features to standardize them\n",
    "])\n",
    "\n",
    "# Apply the pipeline to the numerical features (housing_num) to preprocess them.\n",
    "# The result is stored in housing_num_tr and contains the transformed features.\n",
    "# Note: housing_num does not include 'ocean_proximity' or 'median_house_value', as 'ocean_proximity' is categorical and 'median_house_value' is the target variable.\n",
    "housing_num_tr = num_pipeline.fit_transform(housing_num)"
   ]
  },
  {
   "cell_type": "code",
   "execution_count": null,
   "id": "d38226e0-55f1-4f37-9c8e-ef579c859e8d",
   "metadata": {},
   "outputs": [],
   "source": [
    "from sklearn.compose import ColumnTransformer\n",
    "\n",
    "# Define the list of numerical attributes (excluding the target variable 'median_house_value')\n",
    "num_attribs = list(housing_num)  \n",
    "\n",
    "# Define the list of categorical attributes (in this case, only 'ocean_proximity')\n",
    "cat_attribs = [\"ocean_proximity\"]\n",
    "\n",
    "# Create a full pipeline to process both numerical and categorical attributes:\n",
    "full_pipeline = ColumnTransformer([\n",
    "    # Step 1: Apply the 'num_pipeline' to all numerical attributes (defined earlier).\n",
    "    # This includes imputing missing values, adding new features, and scaling.\n",
    "    (\"num\", num_pipeline, num_attribs),\n",
    "    \n",
    "    # Step 2: Apply OneHotEncoder to the categorical attribute 'ocean_proximity'.\n",
    "    # This converts it into binary columns (one for each category).\n",
    "    (\"cat\", OneHotEncoder(), cat_attribs),\n",
    "])\n",
    "\n",
    "# Apply the full pipeline to the dataset (excluding 'median_house_value').\n",
    "# The pipeline will transform the numerical and categorical parts of the dataset accordingly,\n",
    "# and then the outputs will be concatenated into a single array.\n",
    "housing_prepared = full_pipeline.fit_transform(housing)"
   ]
  },
  {
   "cell_type": "code",
   "execution_count": null,
   "id": "f3874544-56cf-44c0-a301-d1afccf03b2b",
   "metadata": {},
   "outputs": [],
   "source": [
    "# FIFTH: Train a machine learning model using the prepared dataset.\n",
    "\n",
    "from sklearn.linear_model import LinearRegression\n",
    "\n",
    "# Create an instance of the LinearRegression model.\n",
    "lin_reg = LinearRegression()\n",
    "\n",
    "# Fit the model to the prepared data (features) and the target labels (housing_labels).\n",
    "# The model will learn the relationship between the features in housing_prepared and the target variable (median_house_value).\n",
    "lin_reg.fit(housing_prepared, housing_labels)  # Train the model using the prepared dataset and the labels"
   ]
  },
  {
   "cell_type": "code",
   "execution_count": null,
   "id": "11d16fc8-0141-4b41-98a6-93849ff9847a",
   "metadata": {},
   "outputs": [],
   "source": [
    "# Select a small subset of the dataset (first 5 rows) to verify the model's predictions.\n",
    "some_data = housing.iloc[:5]  # Select the first 5 rows of the dataset for testing\n",
    "some_labels = housing_labels.iloc[:5]  # Select the corresponding labels (median_house_value) for the first 5 rows\n",
    "\n",
    "# Apply the full pipeline transformation to the selected subset of data.\n",
    "# This ensures that the data is preprocessed (imputed, transformed, and scaled) in the same way as the training data.\n",
    "some_data_prepared = full_pipeline.transform(some_data)\n",
    "\n",
    "# Use the trained linear regression model to predict the median house values for the selected data.\n",
    "# Print the predictions made by the model.\n",
    "print(\"Predictions:\", lin_reg.predict(some_data_prepared))\n",
    "\n",
    "# Print the actual labels (ground truth) for comparison with the predictions.\n",
    "print(\"Labels:\", list(some_labels))"
   ]
  },
  {
   "cell_type": "code",
   "execution_count": null,
   "id": "246ff541-ed44-4281-8208-cb7f15be30fe",
   "metadata": {},
   "outputs": [],
   "source": [
    "# Calculate the Root Mean Squared Error (RMSE) to evaluate the performance of the model.\n",
    "\n",
    "from sklearn.metrics import mean_squared_error\n",
    "\n",
    "# Use the trained linear regression model to make predictions on the entire prepared housing dataset.\n",
    "housing_predictions = lin_reg.predict(housing_prepared)\n",
    "\n",
    "# Calculate the Mean Squared Error (MSE) by comparing the predicted values with the actual labels (housing_labels).\n",
    "lin_mse = mean_squared_error(housing_labels, housing_predictions)\n",
    "\n",
    "# Calculate the Root Mean Squared Error (RMSE) by taking the square root of the MSE.\n",
    "lin_rmse = np.sqrt(lin_mse)\n",
    "\n",
    "# Output the RMSE value, which provides an indication of the model's prediction accuracy.\n",
    "lin_rmse"
   ]
  },
  {
   "cell_type": "code",
   "execution_count": null,
   "id": "cda7fd4e-daed-4779-8c3f-c567b69220e0",
   "metadata": {},
   "outputs": [],
   "source": [
    "# Since the linear regression model has a large error of USD 68k, we will switch to a more powerful model: DecisionTreeRegressor.\n",
    "\n",
    "from sklearn.tree import DecisionTreeRegressor\n",
    "\n",
    "# Create an instance of the DecisionTreeRegressor model.\n",
    "tree_reg = DecisionTreeRegressor()\n",
    "\n",
    "# Train the DecisionTreeRegressor model using the prepared dataset and the housing labels (median_house_value).\n",
    "tree_reg.fit(housing_prepared, housing_labels)  # Fit the model to the training data"
   ]
  },
  {
   "cell_type": "code",
   "execution_count": null,
   "id": "348bc5cc-1428-4e67-80f9-7231085f43f6",
   "metadata": {},
   "outputs": [],
   "source": [
    "# Now, we will calculate the RMSE for the DecisionTreeRegressor model to evaluate its performance.\n",
    "\n",
    "# Use the trained DecisionTreeRegressor model to make predictions on the entire prepared housing dataset.\n",
    "housing_predictions = tree_reg.predict(housing_prepared)\n",
    "\n",
    "# Calculate the Mean Squared Error (MSE) by comparing the predicted values with the actual labels (housing_labels).\n",
    "tree_mse = mean_squared_error(housing_labels, housing_predictions)\n",
    "\n",
    "# Calculate the Root Mean Squared Error (RMSE) by taking the square root of the MSE.\n",
    "tree_rmse = np.sqrt(tree_mse)\n",
    "\n",
    "# Output the RMSE value, which will give an indication of how well the DecisionTreeRegressor model is performing.\n",
    "tree_rmse"
   ]
  },
  {
   "cell_type": "code",
   "execution_count": null,
   "id": "ade3bdc5-054f-4ce2-a49c-95c69d70b2c7",
   "metadata": {},
   "outputs": [],
   "source": [
    "# Since a 0% error is too good to be true, it suggests that the model might be overfitting.\n",
    "# To assess the model's performance more reliably, we will use K-fold cross-validation.\n",
    "# In K-folds cross-validation, the training set is split into 10 \"folds\", and the model is trained 10 times,\n",
    "# each time using 9 folds for training and 1 fold for validation. This helps to reduce overfitting.\n",
    "\n",
    "from sklearn.model_selection import cross_val_score\n",
    "\n",
    "# Perform 10-fold cross-validation on the DecisionTreeRegressor model.\n",
    "# The cross_val_score function computes the performance of the model by training and evaluating it on each fold.\n",
    "# The scoring parameter is set to \"neg_mean_squared_error\" to return the negative of the mean squared error (so higher scores are better).\n",
    "scores = cross_val_score(tree_reg, housing_prepared, housing_labels, scoring=\"neg_mean_squared_error\", cv=10)\n",
    "\n",
    "# Convert the negative mean squared error scores into positive values, then take the square root to calculate RMSE for each fold.\n",
    "tree_rmse_scores = np.sqrt(-scores)\n",
    "\n",
    "# Output the RMSE scores for each fold of the cross-validation.\n",
    "tree_rmse_scores"
   ]
  },
  {
   "cell_type": "code",
   "execution_count": null,
   "id": "bbe43841-c085-4a05-8dc7-fb05454056f4",
   "metadata": {},
   "outputs": [],
   "source": [
    "# Define a function to display the performance scores of the model.\n",
    "# This function takes the array of RMSE scores from cross-validation and prints:\n",
    "# 1. The individual scores for each fold.\n",
    "# 2. The mean of the scores (average RMSE across folds).\n",
    "# 3. The standard deviation of the scores (how much the scores vary across folds).\n",
    "\n",
    "def display_scores(scores):\n",
    "    print(\"Scores:\", scores)  # Print the RMSE scores for each fold.\n",
    "    print(\"Mean:\", scores.mean())  # Print the mean RMSE score (average error).\n",
    "    print(\"Standard deviation:\", scores.std())  # Print the standard deviation of RMSE scores.\n",
    "\n",
    "# Call the function to display the RMSE scores of the DecisionTreeRegressor after cross-validation.\n",
    "display_scores(tree_rmse_scores)"
   ]
  },
  {
   "cell_type": "code",
   "execution_count": null,
   "id": "59ecc1af-f165-4f75-8f45-2874d342e4d7",
   "metadata": {},
   "outputs": [],
   "source": [
    "# Since the DecisionTreeRegressor model has a higher RMSE score than the linear regression model,\n",
    "# let's perform cross-validation on the linear regression model to evaluate its performance more reliably.\n",
    "\n",
    "# Perform 10-fold cross-validation on the linear regression model.\n",
    "# The cross_val_score function computes the performance of the model by training and evaluating it on each fold.\n",
    "# The scoring parameter is set to \"neg_mean_squared_error\" to return the negative of the mean squared error (so higher scores are better).\n",
    "lin_scores = cross_val_score(lin_reg, housing_prepared, housing_labels, scoring=\"neg_mean_squared_error\", cv=10)\n",
    "\n",
    "# Convert the negative mean squared error scores into positive values, then take the square root to calculate RMSE for each fold.\n",
    "lin_rmse_scores = np.sqrt(-lin_scores)\n",
    "\n",
    "# Display the RMSE scores for the linear regression model after cross-validation.\n",
    "display_scores(lin_rmse_scores)"
   ]
  },
  {
   "cell_type": "code",
   "execution_count": null,
   "id": "176b9c4e-116b-48f9-bc2a-aff8cb172397",
   "metadata": {},
   "outputs": [],
   "source": [
    "# Since the DecisionTreeRegressor model was overfitting and performed worse than linear regression,\n",
    "# let's try using a RandomForestRegressor, which is an ensemble model that can handle overfitting better.\n",
    "\n",
    "from sklearn.ensemble import RandomForestRegressor\n",
    "\n",
    "# Create an instance of the RandomForestRegressor model.\n",
    "forest_reg = RandomForestRegressor()\n",
    "\n",
    "# Train the RandomForestRegressor model using the prepared dataset and the housing labels (median_house_value).\n",
    "forest_reg.fit(housing_prepared, housing_labels)\n",
    "\n",
    "# Make predictions on the entire prepared housing dataset using the trained RandomForestRegressor model.\n",
    "housing_predictions = forest_reg.predict(housing_prepared)\n",
    "\n",
    "# Calculate the Mean Squared Error (MSE) by comparing the predicted values with the actual labels (housing_labels).\n",
    "forest_mse = mean_squared_error(housing_labels, housing_predictions)\n",
    "\n",
    "# Calculate the Root Mean Squared Error (RMSE) by taking the square root of the MSE.\n",
    "forest_rmse = np.sqrt(forest_mse)\n",
    "\n",
    "# Output the RMSE value, which will give an indication of how well the RandomForestRegressor model is performing.\n",
    "forest_rmse"
   ]
  },
  {
   "cell_type": "code",
   "execution_count": null,
   "id": "724b35ae-5012-4687-96dc-6392ecf43642",
   "metadata": {},
   "outputs": [],
   "source": [
    "# Now, let's perform cross-validation on the RandomForestRegressor to evaluate its performance more reliably.\n",
    "\n",
    "# Perform 10-fold cross-validation on the RandomForestRegressor model.\n",
    "# The cross_val_score function computes the performance of the model by training and evaluating it on each fold.\n",
    "# The scoring parameter is set to \"neg_mean_squared_error\" to return the negative of the mean squared error (so higher scores are better).\n",
    "forest_scores = cross_val_score(forest_reg, housing_prepared, housing_labels, scoring=\"neg_mean_squared_error\", cv=10)\n",
    "\n",
    "# Convert the negative mean squared error scores into positive values, then take the square root to calculate RMSE for each fold.\n",
    "forest_rmse_scores = np.sqrt(-forest_scores)\n",
    "\n",
    "# Display the RMSE scores for the RandomForestRegressor model after cross-validation.\n",
    "display_scores(forest_rmse_scores)"
   ]
  },
  {
   "cell_type": "code",
   "execution_count": null,
   "id": "5abc6869-f05b-4930-ba2d-296796d2e5c4",
   "metadata": {},
   "outputs": [],
   "source": [
    "# Now we will save the trained models for future reference, so we can load and use them without retraining.\n",
    "\n",
    "import joblib\n",
    "\n",
    "# Save the trained models to disk using joblib. This will store the models in .pkl files.\n",
    "joblib.dump(lin_reg, \"lin_reg.pkl\")  # Save the linear regression model\n",
    "joblib.dump(tree_reg, \"tree_reg.pkl\")  # Save the decision tree regressor model\n",
    "joblib.dump(forest_reg, \"forest_reg.pkl\")  # Save the random forest regressor model\n",
    "\n",
    "# You can load the saved models later using joblib.load(). Example:\n",
    "# my_model_loaded = joblib.load(\"my_model.pkl\")  # Load a saved model from the file"
   ]
  },
  {
   "cell_type": "code",
   "execution_count": null,
   "id": "84c5c0bc-e395-469a-9a3d-e538d92541d5",
   "metadata": {},
   "outputs": [],
   "source": [
    "# SIXTH: Fine-tune the models using SciKit-Learn's GridSearchCV to find the best hyperparameters.\n",
    "\n",
    "from sklearn.model_selection import GridSearchCV\n",
    "\n",
    "# Define the parameter grid for the GridSearchCV.\n",
    "# The grid search will try all combinations of 'n_estimators' and 'max_features' for the first dictionary,\n",
    "# and 'bootstrap', 'n_estimators', and 'max_features' for the second dictionary.\n",
    "param_grid = [ \n",
    "    {'n_estimators': [3, 10, 30], 'max_features': [2, 4, 6, 8]},  # First set of parameters to test.\n",
    "    {'bootstrap': [False], 'n_estimators': [3, 10], 'max_features': [2, 3, 4]}  # Second set of parameters to test.\n",
    "]\n",
    "\n",
    "# Create an instance of the RandomForestRegressor model.\n",
    "forest_reg = RandomForestRegressor()\n",
    "\n",
    "# Create the GridSearchCV object, specifying the model, parameter grid, and evaluation settings.\n",
    "# - cv=5: 5-fold cross-validation\n",
    "# - scoring='neg_mean_squared_error': to use negative mean squared error as the evaluation metric\n",
    "# - return_train_score=True: to store and return the training scores for each hyperparameter combination.\n",
    "grid_search = GridSearchCV(forest_reg, param_grid, cv=5,\n",
    "                          scoring='neg_mean_squared_error',\n",
    "                          return_train_score=True)\n",
    "\n",
    "# Fit the grid search object on the training data.\n",
    "# It will search through all the combinations of hyperparameters, train the model, and evaluate it using cross-validation.\n",
    "grid_search.fit(housing_prepared, housing_labels)"
   ]
  },
  {
   "cell_type": "code",
   "execution_count": null,
   "id": "cc522cb6-b587-4467-bc5d-59ec71932536",
   "metadata": {},
   "outputs": [],
   "source": [
    "# After fitting the grid search, we can retrieve the best hyperparameters and the best model.\n",
    "\n",
    "# Get the best combination of hyperparameters found by GridSearchCV.\n",
    "# This will return the hyperparameters that gave the best performance based on the cross-validation.\n",
    "grid_search.best_params_"
   ]
  },
  {
   "cell_type": "code",
   "execution_count": null,
   "id": "cf833f8c-2ed9-4898-b5b6-c79ae7be8329",
   "metadata": {},
   "outputs": [],
   "source": [
    "# Get the best estimator (model) based on the best combination of hyperparameters.\n",
    "# This will return the trained model with the best hyperparameters.\n",
    "grid_search.best_estimator_"
   ]
  },
  {
   "cell_type": "code",
   "execution_count": null,
   "id": "89cf7c31-197b-4785-98bd-e2c932062ebc",
   "metadata": {},
   "outputs": [],
   "source": [
    "# After performing GridSearchCV, we can inspect the results and evaluate how different hyperparameter combinations performed.\n",
    "\n",
    "# Access the cross-validation results from the grid search.\n",
    "cvres = grid_search.cv_results_\n",
    "\n",
    "# Loop through the results and print the RMSE for each hyperparameter combination.\n",
    "# We take the negative of the mean test score (since it was computed as negative MSE), \n",
    "# then convert it back to positive RMSE by taking the square root.\n",
    "for mean_score, params in zip(cvres[\"mean_test_score\"], cvres[\"params\"]):\n",
    "    print(np.sqrt(-mean_score), params)  # Print the RMSE (square root of negative MSE) and the associated hyperparameters.\n",
    "\n",
    "# You can compare these scores with the previous Random Forest model to see if the grid search gives a better result.\n",
    "# For example, if the best score is 49,666 (lower than the previous 50,491), it shows that the model is improving,\n",
    "# but it may still not be ideal."
   ]
  },
  {
   "cell_type": "code",
   "execution_count": null,
   "id": "83563a98-9fc1-4a4a-97eb-7a01fc9210e1",
   "metadata": {},
   "outputs": [],
   "source": [
    "# After finding the best model using GridSearchCV, we can inspect the feature importances.\n",
    "# Feature importance tells us how important each feature is in making predictions.\n",
    "\n",
    "# Access the feature importances from the best model found by the grid search.\n",
    "feature_importances = grid_search.best_estimator_.feature_importances_\n",
    "\n",
    "# Print the feature importances to see how much each feature contributes to the model's predictions.\n",
    "feature_importances"
   ]
  },
  {
   "cell_type": "code",
   "execution_count": null,
   "id": "da3de972-6358-471c-8ab8-a8ac83977574",
   "metadata": {},
   "outputs": [],
   "source": [
    "# Now, let's display the feature importances along with their corresponding attribute names.\n",
    "\n",
    "# Define the extra attributes we created (not part of the original dataset).\n",
    "extra_attribs = [\"rooms_per_household\", \"pop_per_hhold\", \"bedrooms_per_room\"]\n",
    "\n",
    "# Get the list of categorical attributes that were one-hot encoded in the pipeline.\n",
    "# The full_pipeline named transformer 'cat' gives access to the OneHotEncoder that was applied to the categorical column.\n",
    "cat_encoder = full_pipeline.named_transformers_[\"cat\"]\n",
    "cat_one_hot_attribs = list(cat_encoder.categories_[0])  # Extract the one-hot encoded category names.\n",
    "\n",
    "# Combine the numerical attributes, extra attributes, and one-hot encoded category attributes into a single list of all feature names.\n",
    "attributes = num_attribs + extra_attribs + cat_one_hot_attribs\n",
    "\n",
    "# Zip the feature importances with the corresponding attribute names and sort them in descending order to see the most important features first.\n",
    "sorted(zip(feature_importances, attributes), reverse=True)"
   ]
  },
  {
   "cell_type": "code",
   "execution_count": null,
   "id": "c81765de-df0a-4372-8ff1-bb9db30e8ca1",
   "metadata": {},
   "outputs": [],
   "source": [
    "# SEVENTH: Evaluate the final model using the test set to estimate its performance on unseen data.\n",
    "\n",
    "# Get the best model from the grid search (final model after hyperparameter tuning).\n",
    "final_model = grid_search.best_estimator_\n",
    "\n",
    "# Prepare the test data: drop the target variable (\"median_house_value\") from the features.\n",
    "X_test = strat_test_set.drop(\"median_house_value\", axis=1)\n",
    "\n",
    "# Extract the target variable (\"median_house_value\") from the test set for comparison.\n",
    "y_test = strat_test_set[\"median_house_value\"].copy()\n",
    "\n",
    "# Transform the test features using the same preprocessing pipeline used for the training set.\n",
    "X_test_prepared = full_pipeline.transform(X_test)\n",
    "\n",
    "# Make predictions on the test set using the final model.\n",
    "final_predictions = final_model.predict(X_test_prepared)\n",
    "\n",
    "# Calculate the Mean Squared Error (MSE) to evaluate the performance of the model on the test set.\n",
    "final_mse = mean_squared_error(y_test, final_predictions)\n",
    "\n",
    "# Calculate the Root Mean Squared Error (RMSE) by taking the square root of the MSE.\n",
    "final_rmse = np.sqrt(final_mse)\n",
    "\n",
    "# Print the final RMSE value to evaluate how well the model performs on the test set.\n",
    "final_rmse"
   ]
  },
  {
   "cell_type": "code",
   "execution_count": null,
   "id": "b61f6359-bf1f-410b-bbdf-ed7d7ae6f3aa",
   "metadata": {},
   "outputs": [],
   "source": [
    "# To determine how precise the model's predictions are, we can calculate a confidence interval for the RMSE.\n",
    "\n",
    "from scipy import stats\n",
    "\n",
    "# Set the confidence level (95% in this case).\n",
    "confidence = 0.95\n",
    "\n",
    "# Compute the squared errors by subtracting the true values from the predicted values, then squaring the result.\n",
    "squared_errors = (final_predictions - y_test) ** 2\n",
    "\n",
    "# Use scipy.stats.t.interval() to calculate the confidence interval for the RMSE.\n",
    "# The t.interval() function computes a confidence interval based on the t-distribution.\n",
    "# - len(squared_errors) - 1: degrees of freedom (sample size - 1)\n",
    "# - loc: the mean of the squared errors\n",
    "# - scale: the standard error of the mean (sem) of the squared errors\n",
    "np.sqrt(stats.t.interval(confidence, len(squared_errors) - 1,\n",
    "                        loc=squared_errors.mean(),\n",
    "                        scale=stats.sem(squared_errors)))"
   ]
  }
 ],
 "metadata": {
  "kernelspec": {
   "display_name": "env",
   "language": "python",
   "name": "python3"
  },
  "language_info": {
   "codemirror_mode": {
    "name": "ipython",
    "version": 3
   },
   "file_extension": ".py",
   "mimetype": "text/x-python",
   "name": "python",
   "nbconvert_exporter": "python",
   "pygments_lexer": "ipython3",
   "version": "3.11.9"
  }
 },
 "nbformat": 4,
 "nbformat_minor": 5
}
