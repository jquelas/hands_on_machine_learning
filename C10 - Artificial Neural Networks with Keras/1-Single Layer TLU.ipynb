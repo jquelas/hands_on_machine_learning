{
 "cells": [
  {
   "cell_type": "code",
   "execution_count": null,
   "id": "b717ac16",
   "metadata": {},
   "outputs": [
    {
     "name": "stdout",
     "output_type": "stream",
     "text": [
      "The predicted class is [0]\n"
     ]
    }
   ],
   "source": [
    "# This script uses the Perceptron algorithm to classify whether a flower \n",
    "# from the Iris dataset is an Iris Setosa based on two features: \n",
    "# petal length and petal width. It trains the model using labeled data \n",
    "# and predicts the class for a new flower with given petal dimensions.\n",
    "\n",
    "# Import necessary libraries\n",
    "import numpy as np\n",
    "from sklearn.datasets import load_iris\n",
    "from sklearn.linear_model import Perceptron\n",
    "\n",
    "# Load the iris dataset\n",
    "iris = load_iris()\n",
    "\n",
    "# Select only petal length and petal width features (columns 2 and 3)\n",
    "X = iris.data[:, (2, 3)]\n",
    "\n",
    "# Create a binary target variable: 1 if the flower is Iris Setosa, else 0\n",
    "y = (iris.target == 0).astype(int)\n",
    "\n",
    "# Initialize a Perceptron classifier (a simple linear binary classifier)\n",
    "per_clf = Perceptron()\n",
    "\n",
    "# Train the Perceptron on the selected features and binary target\n",
    "per_clf.fit(X, y)\n",
    "\n",
    "# Use the trained model to predict the class of a new flower with \n",
    "# petal length = 2 cm and petal width = 0.5 cm\n",
    "y_pred = per_clf.predict([[2, 0.5]])\n",
    "\n",
    "# Print the predicted class (1 means Iris Setosa, 0 means not)\n",
    "print(f\"The predicted class is {y_pred}\")\n"
   ]
  }
 ],
 "metadata": {
  "kernelspec": {
   "display_name": "env",
   "language": "python",
   "name": "python3"
  },
  "language_info": {
   "codemirror_mode": {
    "name": "ipython",
    "version": 3
   },
   "file_extension": ".py",
   "mimetype": "text/x-python",
   "name": "python",
   "nbconvert_exporter": "python",
   "pygments_lexer": "ipython3",
   "version": "3.11.9"
  }
 },
 "nbformat": 4,
 "nbformat_minor": 5
}
