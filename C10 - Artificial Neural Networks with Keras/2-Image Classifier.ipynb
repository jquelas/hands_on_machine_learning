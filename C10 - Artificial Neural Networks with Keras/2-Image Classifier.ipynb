{
 "cells": [
  {
   "cell_type": "code",
   "execution_count": 1,
   "id": "c9e693a1",
   "metadata": {},
   "outputs": [
    {
     "name": "stdout",
     "output_type": "stream",
     "text": [
      "The shape of the dataset is:\n",
      "(60000, 28, 28)\n",
      "The data type of the dataset is:\n",
      "uint8\n"
     ]
    }
   ],
   "source": [
    "# We are going to build an image classifier using the sequential API\n",
    "# To begin we are going to download the Fashion MNIST dataset\n",
    "\n",
    "# Import the Fashion MNIST dataset loader from TensorFlow Keras\n",
    "from tensorflow.keras.datasets import fashion_mnist\n",
    "\n",
    "# Load the dataset and split it into training and test sets\n",
    "# X_train_full and y_train_full contain the training images and labels\n",
    "# X_test and y_test contain the test images and labels\n",
    "(X_train_full, y_train_full), (X_test, y_test) = fashion_mnist.load_data()\n",
    "\n",
    "# Print the shape of the full training dataset\n",
    "# Should output (60000, 28, 28) → 60,000 images of 28x28 pixels\n",
    "print(f\"The shape of the dataset is:\\n{X_train_full.shape}\")\n",
    "\n",
    "# Print the data type of the training images (usually uint8)\n",
    "print(f\"The data type of the dataset is:\\n{X_train_full.dtype}\")\n"
   ]
  },
  {
   "cell_type": "code",
   "execution_count": 2,
   "id": "48d3a7ab",
   "metadata": {},
   "outputs": [
    {
     "name": "stdout",
     "output_type": "stream",
     "text": [
      "Dataset saved as 'fashion_mnist_data.npz' in the current directory.\n"
     ]
    }
   ],
   "source": [
    "# We are going to download the dataset into the folder to use it locally\n",
    "import numpy as np\n",
    "\n",
    "# Save the arrays to a compressed .npz file\n",
    "np.savez_compressed(\"fashion_mnist_data.npz\",\n",
    "                    X_train_full=X_train_full,\n",
    "                    y_train_full=y_train_full,\n",
    "                    X_test=X_test,\n",
    "                    y_test=y_test)\n",
    "\n",
    "print(\"Dataset saved as 'fashion_mnist_data.npz' in the current directory.\")"
   ]
  },
  {
   "cell_type": "code",
   "execution_count": 2,
   "id": "dbff49fc",
   "metadata": {},
   "outputs": [
    {
     "name": "stdout",
     "output_type": "stream",
     "text": [
      "Loaded shapes: (60000, 28, 28), (10000, 28, 28)\n"
     ]
    }
   ],
   "source": [
    "import numpy as np\n",
    "\n",
    "# To load the saved file we implement the following code\n",
    "data = np.load(\"fashion_mnist_data.npz\")\n",
    "X_train_full = data[\"X_train_full\"]\n",
    "y_train_full = data[\"y_train_full\"]\n",
    "X_test = data[\"X_test\"]\n",
    "y_test = data[\"y_test\"]\n",
    "\n",
    "print(f\"Loaded shapes: {X_train_full.shape}, {X_test.shape}\")"
   ]
  },
  {
   "cell_type": "code",
   "execution_count": 3,
   "id": "c8b52d25",
   "metadata": {},
   "outputs": [],
   "source": [
    "# Note that the dataset is already split into a training set and a test set\n",
    "# but it does not have a validation set, so we are going to create one\n",
    "# Since we are going to train the neural network using Gradient Descent,\n",
    "# we must scale the input features\n",
    "# For simplicity, we'll scale the pixel intensities down to the 0-1 range \n",
    "# by dividing them by 255.0 (this also converts them to float)\n",
    "\n",
    "# Normalize the pixel values by dividing by 255.0 (so values range from 0 to 1)\n",
    "# and split the first 5,000 samples from the full training set to use as a validation set.\n",
    "X_valid, X_train = X_train_full[:5000] / 255.0, X_train_full[5000:] / 255.0\n",
    "\n",
    "# Split the corresponding labels for validation and training sets\n",
    "y_valid, y_train = y_train_full[:5000], y_train_full[5000:]\n",
    "\n",
    "# Normalize the test set pixel values as well\n",
    "X_test = X_test / 255.0"
   ]
  },
  {
   "cell_type": "code",
   "execution_count": 4,
   "id": "5c65f385",
   "metadata": {},
   "outputs": [
    {
     "name": "stdout",
     "output_type": "stream",
     "text": [
      "What type of cloth is the first element in the traning set? --> Coat\n"
     ]
    }
   ],
   "source": [
    "# For Fashion MNIST we need the list of class names to know we are dealing with\n",
    "class_names = [\"T-shirt/top\", \"Trouser\", \"Pullover\", \"Dress\", \"Coat\",\n",
    "                \"Sandal\", \"Shirt\", \"Sneaker\", \"Bag\", \"Ankle boot\"]\n",
    "\n",
    "# For example, the first image in the training set represents a coat\n",
    "print(f\"What type of cloth is the first element in the traning set? --> {class_names[y_train[0]]}\")"
   ]
  }
 ],
 "metadata": {
  "kernelspec": {
   "display_name": "env",
   "language": "python",
   "name": "python3"
  },
  "language_info": {
   "codemirror_mode": {
    "name": "ipython",
    "version": 3
   },
   "file_extension": ".py",
   "mimetype": "text/x-python",
   "name": "python",
   "nbconvert_exporter": "python",
   "pygments_lexer": "ipython3",
   "version": "3.11.9"
  }
 },
 "nbformat": 4,
 "nbformat_minor": 5
}
