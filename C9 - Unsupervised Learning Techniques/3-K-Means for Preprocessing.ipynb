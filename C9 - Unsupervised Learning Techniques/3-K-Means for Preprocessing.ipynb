{
 "cells": [
  {
   "cell_type": "code",
   "execution_count": 1,
   "id": "26238fef",
   "metadata": {},
   "outputs": [],
   "source": [
    "# Now, we are going to verify how th K-Means algorithm can improve model accurecy\n",
    "# when using it as a preprocessing step of all instances\n",
    "\n",
    "from sklearn.datasets import load_digits\n",
    "\n",
    "# Load the digits dataset; X_digits contains image data, y_digits contains labels\n",
    "X_digits, y_digits = load_digits(return_X_y=True)"
   ]
  },
  {
   "cell_type": "code",
   "execution_count": 2,
   "id": "4d697a04",
   "metadata": {},
   "outputs": [],
   "source": [
    "from sklearn.model_selection import train_test_split\n",
    "\n",
    "# Split the dataset into training and testing sets\n",
    "# By default, 75% of the data goes to training and 25% to testing\n",
    "X_train, X_test, y_train, y_test = train_test_split(X_digits, y_digits, random_state=42)"
   ]
  },
  {
   "cell_type": "code",
   "execution_count": 3,
   "id": "e61bf7b3",
   "metadata": {},
   "outputs": [
    {
     "name": "stdout",
     "output_type": "stream",
     "text": [
      "The accuracy of the Logistic Regressor is: 0.9733\n"
     ]
    }
   ],
   "source": [
    "from sklearn.linear_model import LogisticRegression\n",
    "\n",
    "# Create a logistic regression classifier\n",
    "log_reg = LogisticRegression(max_iter=1000)  # Increased max_iter to ensure convergence\n",
    "\n",
    "# Train the model using the training data\n",
    "log_reg.fit(X_train, y_train)\n",
    "\n",
    "# Evaluate the model on the test set and print the accuracy\n",
    "print(f\"The accuracy of the Logistic Regressor is: {log_reg.score(X_test, y_test):.4f}\")\n",
    "\n",
    "# The Logistic Regressor achieves around 95.11% accuracy — this will serve as our performance baseline."
   ]
  },
  {
   "cell_type": "code",
   "execution_count": 6,
   "id": "c6877438",
   "metadata": {},
   "outputs": [
    {
     "name": "stdout",
     "output_type": "stream",
     "text": [
      "The accuracy of the classification pipeline is: 0.9711\n"
     ]
    }
   ],
   "source": [
    "# Let's see if we can improve classification performance by using K-Means as a preprocessing step.\n",
    "# The idea is to transform the original image data into a new feature space using cluster distances,\n",
    "# and then feed this transformed data into a Logistic Regression classifier.\n",
    "\n",
    "import warnings\n",
    "from sklearn.exceptions import ConvergenceWarning\n",
    "from sklearn.pipeline import Pipeline\n",
    "from sklearn.cluster import KMeans\n",
    "\n",
    "# Suppress LogisticRegression convergence warnings\n",
    "warnings.filterwarnings(\"ignore\", category=ConvergenceWarning)\n",
    "\n",
    "# Suppress joblib/loky CPU core detection warnings\n",
    "warnings.filterwarnings(\"ignore\", message=\"Could not find the number of physical cores*\")\n",
    "\n",
    "# Create a pipeline with two steps:\n",
    "# 1. Apply K-Means clustering to the input data (using 50 clusters)\n",
    "#    This step transforms each sample into a vector of distances to each cluster center.\n",
    "# 2. Train a Logistic Regression model on the transformed features.\n",
    "pipeline = Pipeline([\n",
    "    (\"kmeans\", KMeans(n_clusters=50, random_state=42)),\n",
    "    (\"log_reg\", LogisticRegression(max_iter=1000)),  # Ensure convergence\n",
    "])\n",
    "\n",
    "# Fit the pipeline on the training data\n",
    "pipeline.fit(X_train, y_train)\n",
    "\n",
    "# Evaluate the pipeline on the test set and print the accuracy\n",
    "print(f\"The accuracy of the classification pipeline is: {pipeline.score(X_test, y_test):.4f}\")"
   ]
  },
  {
   "cell_type": "code",
   "execution_count": 5,
   "id": "2a9e6be4",
   "metadata": {},
   "outputs": [
    {
     "name": "stdout",
     "output_type": "stream",
     "text": [
      "The best amount of clusters is: 88\n",
      "The accuracy of the new classification pipeline is: 0.9822\n"
     ]
    }
   ],
   "source": [
    "# We stablished a number a clusters arbitrarily, but we can determine the best value of k\n",
    "# by determine the best performance with cross-validation. We can use GridSearchCV to that end.\n",
    "\n",
    "import warnings\n",
    "from sklearn.exceptions import ConvergenceWarning\n",
    "from sklearn.model_selection import GridSearchCV\n",
    "\n",
    "# Suppress convergence warnings thrown by LogisticRegression\n",
    "warnings.filterwarnings(\"ignore\", category=ConvergenceWarning)\n",
    "\n",
    "# Define a range of possible values for the number of clusters in KMeans\n",
    "param_grid = dict(kmeans__n_clusters=range(2, 100))\n",
    "\n",
    "# Use GridSearchCV to find the best number of clusters (k) using 3-fold cross-validation\n",
    "grid_clf = GridSearchCV(pipeline, param_grid, cv=3)\n",
    "\n",
    "# Fit the pipeline across different values of k to find the best one\n",
    "grid_clf.fit(X_train, y_train)\n",
    "\n",
    "# Print the best number of clusters found and the corresponding test set accuracy\n",
    "print(f\"The best amount of clusters is: {grid_clf.best_params_['kmeans__n_clusters']}\")\n",
    "print(f\"The accuracy of the new classification pipeline is: {grid_clf.score(X_test, y_test):.4f}\")"
   ]
  }
 ],
 "metadata": {
  "kernelspec": {
   "display_name": "env",
   "language": "python",
   "name": "python3"
  },
  "language_info": {
   "codemirror_mode": {
    "name": "ipython",
    "version": 3
   },
   "file_extension": ".py",
   "mimetype": "text/x-python",
   "name": "python",
   "nbconvert_exporter": "python",
   "pygments_lexer": "ipython3",
   "version": "3.11.9"
  }
 },
 "nbformat": 4,
 "nbformat_minor": 5
}
